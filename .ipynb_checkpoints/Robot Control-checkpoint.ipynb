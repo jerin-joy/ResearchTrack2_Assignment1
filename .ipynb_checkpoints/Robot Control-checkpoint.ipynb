{
 "cells": [
  {
   "cell_type": "markdown",
   "id": "13604a20",
   "metadata": {},
   "source": [
    "# Control of a holonomic robot using Jupyter Notebook\n",
    "\n",
    "## Overall description of the package:\n",
    "\n",
    "The task of this Jupyter Notebook is to replace the User Interface of the [first assignment](https://github.com/jerin-joy/ResearchTrack2_Assignment1) in the Research Track 2 course. It involves the control of a holonomic robot by using Jupyter Notebook widgets and monitors the data obtained by using various graphical tools in matplotlib.\n",
    "\n",
    "More specifically, the first part of this Jupyter Notebook interface is able of:\n",
    "- Starting or stopping the robot \"random position\" behaviour by using two buttons - Start and Stop.\n",
    "- Setting the linear and angular velocities of the robot by using two sliders.\n",
    "- Directly controlling the robot movements by using 5 buttons (Forward, Turn right, Backward, Turn Left and Stop)\n",
    "\n",
    "For the successful execution of this Jupyter notebook, the user have to parallelly run gazebo simulation in the same package by entering:\n",
    "\n",
    "```\n",
    "roslaunch rt2_assignment1 sim.launch\n",
    "```\n",
    "After successfully executed the Gazebo simulation, the user can run this Jupyter Notebook by selecting Kernel-> Restart & Run all."
   ]
  },
  {
   "cell_type": "markdown",
   "id": "547c0545",
   "metadata": {
    "ExecuteTime": {
     "end_time": "2022-06-02T09:10:25.766366Z",
     "start_time": "2022-06-02T09:10:25.760795Z"
    }
   },
   "source": [
    "# Headers\n",
    "\n",
    "Headers that are used in the entire package are given below."
   ]
  },
  {
   "cell_type": "code",
   "execution_count": 1,
   "id": "b226f8cd",
   "metadata": {
    "ExecuteTime": {
     "end_time": "2022-06-05T12:08:16.624383Z",
     "start_time": "2022-06-05T12:08:15.508241Z"
    }
   },
   "outputs": [],
   "source": [
    "%matplotlib widget\n",
    "\n",
    "from ipywidgets import Button, Layout, ButtonStyle, GridBox, Box, HBox, VBox\n",
    "import ipywidgets as widgets\n",
    "\n",
    "import numpy as np\n",
    "import collections\n",
    "\n",
    "import rospy\n",
    "import actionlib\n",
    "import actionlib.msg\n",
    "import rt2_assignment1.msg\n",
    "import jupyros as jr\n",
    "from geometry_msgs.msg import Twist\n",
    "from rt2_assignment1.srv import Command\n",
    "from rosgraph_msgs.msg import Clock\n",
    "from nav_msgs.msg import Odometry\n",
    "\n",
    "import matplotlib.pyplot as plt\n",
    "from matplotlib import animation, rc\n",
    "import matplotlib.ticker as ticker\n"
   ]
  },
  {
   "cell_type": "markdown",
   "id": "1ae2a1f3",
   "metadata": {},
   "source": [
    "## Node initialization\n",
    "Nodes used in ROS are initialized here. "
   ]
  },
  {
   "cell_type": "code",
   "execution_count": null,
   "id": "16cc78ad",
   "metadata": {
    "ExecuteTime": {
     "start_time": "2022-06-05T12:08:15.488Z"
    }
   },
   "outputs": [
    {
     "name": "stdout",
     "output_type": "stream",
     "text": [
      "Unable to register with master node [http://localhost:11311]: master may not be running yet. Will keep trying.\n"
     ]
    }
   ],
   "source": [
    "ui_client = rospy.ServiceProxy('/user_interface', Command)\n",
    "\n",
    "rospy.init_node('jupyter_interface')\n",
    "\n",
    "action_service = actionlib.SimpleActionServer(\n",
    "        '/go_to_point', rt2_assignment1.msg.MoveAction, auto_start=False)\n",
    "\n",
    "action_client = actionlib.SimpleActionClient('/go_to_point', rt2_assignment1.msg.MoveAction)\n",
    "\n",
    "global random_status\n"
   ]
  },
  {
   "cell_type": "markdown",
   "id": "89e748f7",
   "metadata": {},
   "source": [
    "# Widgets\n",
    "\n",
    "## Buttons\n",
    "\n",
    "Buttons for directional control and starting and stopping the robot is mentioned below. To simulate the keyboard layout the buttons are placed in a gridbox. "
   ]
  },
  {
   "cell_type": "code",
   "execution_count": null,
   "id": "e30e3ea8",
   "metadata": {
    "ExecuteTime": {
     "start_time": "2022-06-05T12:08:15.490Z"
    }
   },
   "outputs": [],
   "source": [
    "#Buttons for directional control\n",
    "\n",
    "up = Button(description='\\u25b2', #direction='up',\n",
    "                 layout=Layout(width='80%', grid_area='up'),\n",
    "                 style=ButtonStyle(button_color='lightgray'))\n",
    "down = Button(description='\\u25bc', #direction='down',\n",
    "                 layout=Layout(width='80%', grid_area='down'),\n",
    "                 style=ButtonStyle(button_color='lightgray'))\n",
    "right = Button(description='\\u25b6', #direction='right',\n",
    "                 layout=Layout(width='85%', grid_area='right'),\n",
    "                 style=ButtonStyle(button_color='lightgray'))\n",
    "left = Button(description='\\u25c0', #direction='left',\n",
    "                 layout=Layout(width='85%', grid_area='left'),\n",
    "                 style=ButtonStyle(button_color='lightgray'))\n",
    "stop_key = Button(description='STOP', #Stop button\n",
    "                 layout=Layout(width='80%', grid_area='stop_key'),\n",
    "                 style=ButtonStyle(button_color='orange'))\n",
    "\n",
    "gb = GridBox(children=[up, down, right, left, stop_key],\n",
    "        layout=Layout(\n",
    "            width='100%',\n",
    "            grid_template_rows='auto auto',\n",
    "            grid_template_columns='33% 33% 33%',\n",
    "            grid_template_areas='''\n",
    "            \". up .\"\n",
    "            \"left down right \"\n",
    "            \". stop_key .\"\n",
    "            ''')\n",
    "       )\n",
    "\n",
    "# display(gb)\n",
    "\n",
    "#Buttons for starting and stopping of the robot.\n",
    "\n",
    "start  = Button(description='START',\n",
    "                 layout=Layout(width='80%', grid_area='start'),\n",
    "                 style=ButtonStyle(button_color='lightgreen'))\n",
    "stop  = Button(description='STOP',\n",
    "                 layout=Layout(width='80%', grid_area='stop'),\n",
    "                 style=ButtonStyle(button_color='lightblue'))\n",
    "\n",
    "# h1 = VBox([start, stop])\n",
    "\n",
    "g_all = GridBox(children=[start, stop],\n",
    "        layout=Layout(\n",
    "            width='100%',\n",
    "            grid_template_rows='auto auto',\n",
    "            grid_template_columns='31%',\n",
    "            grid_template_areas='''\n",
    "            \". start .\"\n",
    "            \". stop .\"\n",
    "            ''')\n",
    "       )\n",
    "\n",
    "# display(g_all)\n"
   ]
  },
  {
   "cell_type": "markdown",
   "id": "ab20659c",
   "metadata": {},
   "source": [
    "## Sliders\n",
    "\n",
    "Sliders that are used to control the robot by setting the linear and angular velocity of the robot are implemented here. When we increase the values in the slider, it gets published in the cmd_vel topic. "
   ]
  },
  {
   "cell_type": "code",
   "execution_count": null,
   "id": "02cb08a1",
   "metadata": {
    "ExecuteTime": {
     "start_time": "2022-06-05T12:08:15.492Z"
    }
   },
   "outputs": [],
   "source": [
    "lin_slider = widgets.FloatSlider(min=0.0, max=1.0, description='Lin. Velocity')\n",
    "# display(lin_slider)\n",
    "\n",
    "ang_slider = widgets.FloatSlider(min=0.0, max=1.0, description='Ang. Velocity')\n",
    "# display(ang_slider)"
   ]
  },
  {
   "cell_type": "markdown",
   "id": "c834c61b",
   "metadata": {},
   "source": [
    "# Control of the robot using widgets\n",
    "\n",
    "This part of the package explains about the control of the robot using various Jupyter Notebook widgets such as buttons and sliders. "
   ]
  },
  {
   "cell_type": "markdown",
   "id": "777267fc",
   "metadata": {},
   "source": [
    "## Start/Stop the robot using buttons\n",
    "Using start and stop buttons, the Jupyter Notebook is able to start and stop the movement of the robot in the gazebo environment. When the stop button is pressed, the movement of the robot is stopped by cancelling the goal of the robot."
   ]
  },
  {
   "cell_type": "code",
   "execution_count": null,
   "id": "3557ff4c",
   "metadata": {
    "ExecuteTime": {
     "start_time": "2022-06-05T12:08:15.494Z"
    }
   },
   "outputs": [],
   "source": [
    "ui_client(\"stop\")\n",
    "random_status = False\n",
    "output = widgets.Output()\n",
    "\n",
    "def start_button(start):\n",
    "    global random_status\n",
    "    with output:\n",
    "        slider_lin = 1.0\n",
    "        slider_ang = 1.0\n",
    "        rospy.set_param(\"slider_lin_scale\",slider_lin)\n",
    "        rospy.set_param(\"slider_ang_scale\",slider_ang)\n",
    "        ui_client(\"start\")\n",
    "        if random_status == True:\n",
    "            print(\"Robot is already moving\")\n",
    "        random_status = True\n",
    "        print('Start clicked')\n",
    "        \n",
    "def stop_button(stop):\n",
    "    global random_status\n",
    "    with output:\n",
    "        ui_client(\"stop\")\n",
    "        if random_status == False:\n",
    "            print(\"Robot is already stopped\")\n",
    "        random_status = False        \n",
    "        print('Stop clicked')\n",
    "        \n",
    "start.on_click(start_button)\n",
    "stop.on_click(stop_button)\n"
   ]
  },
  {
   "cell_type": "markdown",
   "id": "55333c10",
   "metadata": {},
   "source": [
    "## Setting the linear and angular velocity of the robot\n",
    "In this part, the linear and angular velocity of the robot can be controlled using two sliders, each meant for controlling the linear speed and angular speed of the robot. "
   ]
  },
  {
   "cell_type": "code",
   "execution_count": null,
   "id": "1a93a5b3",
   "metadata": {
    "ExecuteTime": {
     "start_time": "2022-06-05T12:08:15.496Z"
    }
   },
   "outputs": [],
   "source": [
    "pub = rospy.Publisher('cmd_vel', Twist, queue_size=10)\n",
    "\n",
    "msg = Twist()\n",
    "\n",
    "def on_value_change(change):\n",
    "    if random_status == False:\n",
    "        msg.linear.x = change['new']\n",
    "        pub.publish(msg)\n",
    "    else:\n",
    "        slider_lin = change['new']\n",
    "        rospy.set_param(\"slider_lin_scale\",slider_lin)\n",
    "        print(\"Random position movement active, velocity modulated\")\n",
    "    \n",
    "def on_valueang_change(change):\n",
    "    if random_status == False:\n",
    "        msg.angular.z = change['new']\n",
    "        pub.publish(msg)\n",
    "    else:\n",
    "        slider_ang = change['new']\n",
    "        rospy.set_param(\"slider_ang_scale\",slider_ang)\n",
    "        print(\"Random position movement active, angular velocity modulated\")\n",
    "\n",
    "lin_slider.observe(on_value_change, names='value')\n",
    "ang_slider.observe(on_valueang_change, names='value')"
   ]
  },
  {
   "cell_type": "markdown",
   "id": "f8663f6e",
   "metadata": {},
   "source": [
    "## Controlling the robot using 5 buttons\n",
    "Here, the robot is controlled by using 5 buttons (Forward, Turn right, Backward, Turn Left and Stop). The buttons are directly published on the /cmd_vel topic."
   ]
  },
  {
   "cell_type": "code",
   "execution_count": null,
   "id": "bd09e5ba",
   "metadata": {
    "ExecuteTime": {
     "start_time": "2022-06-05T12:08:15.498Z"
    }
   },
   "outputs": [],
   "source": [
    "def up_button(up):\n",
    "    global random_status\n",
    "    if random_status == True:\n",
    "        ui_client(\"stop\")\n",
    "        print(\"Random go to point stopped, click again to start\")\n",
    "        random_status = False\n",
    "    elif random_status == False:\n",
    "        msg.linear.x = 1.0\n",
    "        msg.angular.z = 0.0\n",
    "        pub.publish(msg)\n",
    "        print(\"Go straight\")  \n",
    "            \n",
    "def down_button(down):\n",
    "    global random_status\n",
    "    if random_status == True:\n",
    "        ui_client(\"stop\")\n",
    "        print(\"Random go to point stopped, click again to start\")\n",
    "        random_status = False\n",
    "    elif random_status == False:\n",
    "        msg.linear.x = -1.0\n",
    "        msg.angular.z = 0.0\n",
    "        pub.publish(msg)\n",
    "        print(\"Go backwards\")\n",
    "\n",
    "def right_button(right):\n",
    "    global random_status\n",
    "    if random_status == True:\n",
    "        ui_client(\"stop\")\n",
    "        print(\"Random go to point stopped, click again to start\")\n",
    "        random_status = False\n",
    "    elif random_status == False:\n",
    "        msg.linear.x = 0.0\n",
    "        msg.angular.z = 1.0\n",
    "        pub.publish(msg)\n",
    "        print(\"Turn right\")\n",
    "            \n",
    "def left_button(left):\n",
    "    global random_status\n",
    "    if random_status == True:\n",
    "        ui_client(\"stop\")\n",
    "        print(\"Random go to point stopped, click again to start\")\n",
    "        random_status = False\n",
    "    elif random_status == False:\n",
    "        msg.linear.x = 0.0\n",
    "        msg.angular.z = -1.0\n",
    "        pub.publish(msg)\n",
    "        print(\"Turn left\")\n",
    "            \n",
    "def stop_button_click(stop_key):\n",
    "    global random_status\n",
    "    if random_status == True:\n",
    "        ui_client(\"stop\")\n",
    "        print(\"Random go to point stopped, manual mode active.\")\n",
    "        random_status = False\n",
    "    elif random_status == False:\n",
    "        msg.linear.x = 0.0\n",
    "        msg.angular.z = 0.0\n",
    "        pub.publish(msg)\n",
    "        print('Robot stopped')\n",
    "        \n",
    "up.on_click(up_button)\n",
    "down.on_click(down_button)\n",
    "right.on_click(right_button)\n",
    "left.on_click(left_button)\n",
    "stop_key.on_click(stop_button_click)\n",
    "\n",
    "# display(gb)"
   ]
  },
  {
   "cell_type": "markdown",
   "id": "c7114451",
   "metadata": {},
   "source": [
    "## Widgets Display\n",
    "\n",
    "Every widgets are displayed here. The widgets can be used to start/stop the robot by clicking Start/Stop button, change the linear/angular velocity by two sliders and control the robot using 5 buttons.   "
   ]
  },
  {
   "cell_type": "markdown",
   "id": "88f3e267",
   "metadata": {
    "hide_input": true
   },
   "source": [
    "### Start/Stop button\n",
    "\n",
    "When the user press the start button, the robot moves to a random position. And when the stop button is pressed, the goal is cancelled and the robot stops instantly. And the user can start the robot again by pressing the start button and the robot starts moving to next random position."
   ]
  },
  {
   "cell_type": "code",
   "execution_count": null,
   "id": "660a8026",
   "metadata": {
    "ExecuteTime": {
     "start_time": "2022-06-05T12:08:15.500Z"
    }
   },
   "outputs": [],
   "source": [
    "display(g_all)"
   ]
  },
  {
   "cell_type": "markdown",
   "id": "9ee8dd21",
   "metadata": {},
   "source": [
    "### Change linear/angular velocity\n",
    "The user can change the linear and angular velocity of the robot by moving the slider towards the right. "
   ]
  },
  {
   "cell_type": "code",
   "execution_count": null,
   "id": "76cbc09f",
   "metadata": {
    "ExecuteTime": {
     "start_time": "2022-06-05T12:08:15.502Z"
    }
   },
   "outputs": [],
   "source": [
    "display(lin_slider)\n",
    "display(ang_slider)"
   ]
  },
  {
   "cell_type": "markdown",
   "id": "87ade295",
   "metadata": {},
   "source": [
    "### Control using 5 buttons\n",
    "The user can control the robot by using 5 buttons - up, down, right, left and stop."
   ]
  },
  {
   "cell_type": "code",
   "execution_count": null,
   "id": "2c7e1fb1",
   "metadata": {
    "ExecuteTime": {
     "start_time": "2022-06-05T12:08:15.504Z"
    }
   },
   "outputs": [],
   "source": [
    "display(gb)"
   ]
  },
  {
   "cell_type": "markdown",
   "id": "563d991b",
   "metadata": {},
   "source": [
    "# Plots\n",
    "\n",
    "This part of the jupyter notebook contains:\n",
    "- A line plot for visualizing cmd_vel vs. actual velocity (for linear and angular velocity)\n",
    "- A bar plot displaying the number of reached targets and cancelled targets.\n",
    "- A hist plot showing the time required to reach targets.\n",
    "- An xy graph showing the robot’s position and the orientation.\n"
   ]
  },
  {
   "cell_type": "markdown",
   "id": "f541a939",
   "metadata": {},
   "source": [
    "## Calculation"
   ]
  },
  {
   "cell_type": "code",
   "execution_count": null,
   "id": "f8107732",
   "metadata": {
    "ExecuteTime": {
     "start_time": "2022-06-05T12:08:15.505Z"
    }
   },
   "outputs": [],
   "source": [
    "# target time and success rate calculation\n",
    "number_of_targets = {'Reached':0, 'Cancelled':0}\n",
    "time_to_target = []\n",
    "\n",
    "def targetCallback(msg):\n",
    "    global number_of_targets\n",
    "    \n",
    "    if msg.result.result:\n",
    "        number_of_targets['Reached']+=1   \n",
    "        time_to_target.append(msg.header.stamp.secs - msg.status.goal_id.stamp.secs)\n",
    "    else:\n",
    "        number_of_targets['Cancelled']+=1\n",
    "\n",
    "\n",
    "rospy.Subscriber('/go_to_point/result', rt2_assignment1.msg.MoveAction, targetCallback)"
   ]
  },
  {
   "cell_type": "markdown",
   "id": "3f6d281e",
   "metadata": {},
   "source": [
    "## Plot Display"
   ]
  },
  {
   "cell_type": "markdown",
   "id": "376e22ad",
   "metadata": {},
   "source": [
    "### cmd_vel vs actual velocity"
   ]
  },
  {
   "cell_type": "code",
   "execution_count": null,
   "id": "d8c202f5",
   "metadata": {
    "ExecuteTime": {
     "start_time": "2022-06-05T12:08:15.508Z"
    },
    "scrolled": false
   },
   "outputs": [],
   "source": [
    "# Velocity feedback of the robot\n",
    "fig_lin_vel, ax_lin_vel = plt.subplots()\n",
    "ax_lin_vel.set_xlim(0, 100)\n",
    "ax_lin_vel.set_ylim((-1.1, 1.1))\n",
    "plt.title(\"Velocity check linear velocity\")\n",
    "plt.xlabel(\"Time [s]\")\n",
    "plt.ylabel(\"linear Velocity\")\n",
    "\n",
    "fig_ang_vel, ax_ang_vel = plt.subplots()\n",
    "ax_ang_vel.set_xlim(0, 100)\n",
    "ax_ang_vel.set_ylim((-1.1, 1.1))\n",
    "plt.title(\"Velocity check angular velocity\")\n",
    "plt.xlabel(\"Time [s]\")\n",
    "plt.ylabel(\"angular Velocity\")\n",
    "\n",
    "# Array initilaization to store the value\n",
    "\n",
    "time_vect = collections.deque(maxlen=400)\n",
    "vel_target = collections.deque(maxlen=400)\n",
    "vel_current = collections.deque(maxlen=400)\n",
    "angular_target = collections.deque(maxlen=400)\n",
    "angular_current = collections.deque(maxlen=400)\n",
    "\n",
    "# linear velocity(v)\n",
    "line_vel_target, = ax_lin_vel.plot([], [], '-b', markersize='5')\n",
    "line_vel_current, = ax_lin_vel.plot([], [], '-r', markersize='5')\n",
    "# angular velocity(w)\n",
    "line_ang_target, = ax_ang_vel.plot([], [], 'xc', markersize='5')\n",
    "line_ang_current, = ax_ang_vel.plot([], [], 'xg', markersize='5')\n",
    "\n",
    "\n",
    "def init_vel():\n",
    "   \n",
    "    global line_vel_target, line_vel_current, line_ang_target, line_ang_current, ax_lin_vel, ax_ang_vel\n",
    "    \n",
    "    ax_lin_vel.legend()\n",
    "    ax_lin_vel.set_title(\"Odom vs cmd_vel linear velocity\")\n",
    "    ax_lin_vel.set(xlabel='Time', ylabel='Linear velocity')\n",
    "    ax_lin_vel.set_xlabel('time')\n",
    "\n",
    "    ax_ang_vel.legend()\n",
    "    ax_ang_vel.set_title(\"Odom vs cmd_vel angular velocity\")\n",
    "    ax_ang_vel.set(xlabel='Time', ylabel='Angular velocity')\n",
    "    ax_ang_vel.set_xlabel('time')\n",
    "    \n",
    "     \n",
    "    \n",
    "    line_vel_target.set_data([],[])\n",
    "    line_vel_current.set_data([],[])\n",
    "    line_ang_current.set_data([],[])\n",
    "    line_ang_target.set_data([],[])\n",
    "\n",
    "    return (  line_vel_target,    line_vel_current, line_ang_current, line_ang_target)\n",
    "\n",
    "def animate_vel(i):   \n",
    "    ax_lin_vel.legend([line_vel_target ,line_vel_current], ['Cmd. linear', 'Linear Vel.'], loc = 'lower right')\n",
    "    ax_ang_vel.legend([line_ang_target ,line_ang_current], ['Cmd. angular', 'ang Vel.'], loc = 'lower right')\n",
    "    \n",
    "    \n",
    "    # linear velocity lines\n",
    "    line_vel_target.set_data(time_vect, vel_target)   \n",
    "    line_vel_current.set_data(time_vect, vel_current)  \n",
    "    # angular velocity lines\n",
    "    line_ang_target.set_data(time_vect, angular_target) \n",
    "    line_ang_current.set_data(time_vect, angular_current) \n",
    "    \n",
    "    return (line_vel_target, line_ang_target, line_vel_current, line_ang_current)\n",
    "\n",
    "def vel_callback(msg_cmd):   \n",
    "    time_vect.append(rospy.get_time())       \n",
    "    vel_target.append(msg_cmd.linear.x)  \n",
    "    angular_target.append(msg_cmd.angular.z) \n",
    "    x_min = max([0, max(time_vect) - 20]) \n",
    "    x_max = max([100, max(time_vect)])\n",
    "    ax_lin_vel.set_xlim( x_min, x_max )\n",
    "    ax_ang_vel.set_xlim( x_min, x_max )\n",
    "\n",
    "def odom_speed_callback(msg_odom):       \n",
    "    vel_current.append(msg_odom.twist.twist.linear.x) \n",
    "    angular_current.append(-1.85*msg_odom.twist.twist.angular.z)\n",
    "\n",
    "#robot_velocity data reading\n",
    "jr.subscribe('cmd_vel', Twist, vel_callback)\n",
    "#robot_odometery data reading\n",
    "jr.subscribe('odom', Odometry, odom_speed_callback)\n",
    "\n",
    "# Final output visual of odom and cmd_vel data\n",
    "anim_l_velocity = animation.FuncAnimation(fig_lin_vel, animate_vel, frames = 1, init_func=init_vel, blit=True)\n",
    "\n",
    "anim_a_velocity = animation.FuncAnimation(fig_ang_vel, animate_vel, frames = 1, init_func=init_vel, blit=True)"
   ]
  },
  {
   "cell_type": "code",
   "execution_count": null,
   "id": "b45f3df9",
   "metadata": {
    "ExecuteTime": {
     "end_time": "2022-06-04T14:04:44.771206Z",
     "start_time": "2022-06-04T14:04:44.753312Z"
    }
   },
   "outputs": [],
   "source": []
  },
  {
   "cell_type": "markdown",
   "id": "12f30549",
   "metadata": {},
   "source": [
    "### Number of reached targets and cancelled targets"
   ]
  },
  {
   "cell_type": "code",
   "execution_count": null,
   "id": "f480d39f",
   "metadata": {
    "ExecuteTime": {
     "start_time": "2022-06-05T12:08:15.511Z"
    }
   },
   "outputs": [],
   "source": [
    "bar_plot, fig = plt.subplots()\n",
    "fig.set_ylabel(\"Number of Targets\")\n",
    "fig.set_title(\"Reached vs Cancelled Targets\")\n",
    "fig.set_ylim([0, max(number_of_targets.values())+1])\n",
    "\n",
    "\n",
    "plot_value = plt.bar(list(number_of_targets.keys()), list(number_of_targets.values()), align='center')\n",
    "\n",
    "def animate_plot(i):\n",
    "    for plots, val in zip(plot_value, list(number_of_targets.values())):\n",
    "         plots.set_height(val)   \n",
    "    fig.set_ylim([0, max(list(number_of_targets.values()))+1]) \n",
    "    return (plot_value,) \n",
    "\n",
    "animate_targets = animation.FuncAnimation(bar_plot, animate_plot, frames=50, interval=20, blit=True) "
   ]
  },
  {
   "cell_type": "markdown",
   "id": "5a08f388",
   "metadata": {},
   "source": [
    "### Time required to reach targets"
   ]
  },
  {
   "cell_type": "code",
   "execution_count": null,
   "id": "7a070cd4",
   "metadata": {
    "ExecuteTime": {
     "start_time": "2022-06-05T12:08:15.513Z"
    }
   },
   "outputs": [],
   "source": [
    "fig_time, ax_time = plt.subplots()\n",
    "\n",
    "ax_time.set_title(\"go_to_point time to reach goal\")\n",
    "\n",
    "ax_time.set_xlabel(\"time\")\n",
    "ax_time.set_ylabel(\"goals\")\n",
    "ax_time.set_ylim((0, 5))\n",
    "ax_time.set_xlim((0, 40))\n",
    "\n",
    "n_bins = 10;\n",
    "time_plt, _, _ = ax_time.hist([], bins=n_bins, align='mid')\n",
    "\n",
    "def animate_time(i):\n",
    "    ax_time.cla()\n",
    "    ax_time.set_title(\"go_to_point time to reach goal\")\n",
    "\n",
    "    ax_time.set_xlabel(\"time\")\n",
    "    ax_time.set_ylabel(\"goals\")\n",
    "    ax_time.set_ylim((0, 5))\n",
    "    ax_time.set_xlim((0, 40))\n",
    "    time_plt, _, _ = ax_time.hist(time_to_target, bins=n_bins, align='mid')\n",
    "    return (time_plt,)\n",
    "\n",
    "anim_time = animation.FuncAnimation(fig_time, animate_time, frames=50, interval=20, blit=True)"
   ]
  },
  {
   "cell_type": "code",
   "execution_count": null,
   "id": "44a61a83",
   "metadata": {
    "ExecuteTime": {
     "end_time": "2022-06-04T16:54:58.015910Z",
     "start_time": "2022-06-04T16:54:57.691116Z"
    }
   },
   "outputs": [],
   "source": []
  },
  {
   "cell_type": "markdown",
   "id": "cd39d86d",
   "metadata": {},
   "source": [
    "### Robot's position vs orientation"
   ]
  },
  {
   "cell_type": "code",
   "execution_count": null,
   "id": "ce25c1e7",
   "metadata": {
    "ExecuteTime": {
     "start_time": "2022-06-05T12:08:15.515Z"
    }
   },
   "outputs": [],
   "source": [
    "# Robot current position \n",
    "fig, ax = plt.subplots()\n",
    "ax.set_xlim(( -20, 20))\n",
    "ax.set_ylim((-20, 20))\n",
    "ax.set_aspect(\"equal\")\n",
    "plt.xlabel(\"X-axis\")\n",
    "plt.ylabel(\"Y-axis\")\n",
    "plt.title(\"Robot current positon\")\n",
    "\n",
    "line, = ax.plot([], [], 'rx', markersize=\"5\")\n",
    "\n",
    "x_data =  collections.deque(maxlen=300)\n",
    "y_data = collections.deque(maxlen=300)\n",
    "theta_data = collections.deque(maxlen=300)\n",
    "\n",
    "def init():\n",
    "    line.set_data([], [])\n",
    "    return (line,)\n",
    "    \n",
    "def animate(i):\n",
    "    line.set_data(x_data, y_data)\n",
    "    \n",
    "    return (line)\n",
    "\n",
    "def odom_callback(msg):\n",
    "    y_data.append(msg.pose.pose.position.y)\n",
    "    x_data.append(msg.pose.pose.position.x) \n",
    "      \n",
    "                  \n",
    "# Read robot odometry\n",
    "jr.subscribe('/odom', Odometry, odom_callback)\n",
    "\n",
    "\n",
    "anim_position = animation.FuncAnimation(fig, animate, init_func=init, blit=True)"
   ]
  }
 ],
 "metadata": {
  "kernelspec": {
   "display_name": "Python 3 (ipykernel)",
   "language": "python",
   "name": "python3"
  },
  "language_info": {
   "codemirror_mode": {
    "name": "ipython",
    "version": 3
   },
   "file_extension": ".py",
   "mimetype": "text/x-python",
   "name": "python",
   "nbconvert_exporter": "python",
   "pygments_lexer": "ipython3",
   "version": "3.8.10"
  },
  "toc": {
   "base_numbering": 1,
   "nav_menu": {},
   "number_sections": true,
   "sideBar": true,
   "skip_h1_title": false,
   "title_cell": "Table of Contents",
   "title_sidebar": "Contents",
   "toc_cell": false,
   "toc_position": {
    "height": "calc(100% - 180px)",
    "left": "10px",
    "top": "150px",
    "width": "307.2px"
   },
   "toc_section_display": true,
   "toc_window_display": true
  },
  "varInspector": {
   "cols": {
    "lenName": 16,
    "lenType": 16,
    "lenVar": 40
   },
   "kernels_config": {
    "python": {
     "delete_cmd_postfix": "",
     "delete_cmd_prefix": "del ",
     "library": "var_list.py",
     "varRefreshCmd": "print(var_dic_list())"
    },
    "r": {
     "delete_cmd_postfix": ") ",
     "delete_cmd_prefix": "rm(",
     "library": "var_list.r",
     "varRefreshCmd": "cat(var_dic_list()) "
    }
   },
   "types_to_exclude": [
    "module",
    "function",
    "builtin_function_or_method",
    "instance",
    "_Feature"
   ],
   "window_display": false
  }
 },
 "nbformat": 4,
 "nbformat_minor": 5
}
