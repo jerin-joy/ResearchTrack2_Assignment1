{
 "cells": [
  {
   "cell_type": "markdown",
   "id": "13604a20",
   "metadata": {},
   "source": [
    "# Control of a holonomic robot using Jupyter Notebook\n",
    "\n",
    "## Overall description of the package:\n",
    "\n",
    "The task of this Jupyter Notebook is to replace the User Interface of the [first assignment](https://github.com/jerin-joy/ResearchTrack2_Assignment1) in the Research Track 2 course. It involves the control of a holonomic robot by using Jupyter Notebook widgets and monitors the data obtained by using various graphical tools in matplotlib.\n",
    "\n",
    "More specifically, the first part of this Jupyter Notebook interface is able of:\n",
    "- Starting or stopping the robot \"random position\" behaviour by using two buttons - Start and Stop.\n",
    "- Setting the linear and angular velocities of the robot by using two sliders.\n",
    "- Directly controlling the robot movements by using 5 buttons (Forward, Turn right, Backward, Turn Left and Stop)\n",
    "\n",
    "Also, the second part of this package contains:\n",
    "- A line plot for visualizing cmd_vel vs. actual velocity (for linear and angular velocity)\n",
    "- A bar plot displaying the number of reached targets and cancelled targets.\n",
    "- A hist plot showing the time required to reach targets.\n",
    "- An xy graph showing the robot’s position and the orientation."
   ]
  },
  {
   "cell_type": "markdown",
   "id": "547c0545",
   "metadata": {
    "ExecuteTime": {
     "end_time": "2022-06-02T09:10:25.766366Z",
     "start_time": "2022-06-02T09:10:25.760795Z"
    }
   },
   "source": [
    "# Headers\n",
    "\n",
    "Headers that are used in the entire package are given below."
   ]
  },
  {
   "cell_type": "code",
   "execution_count": 1,
   "id": "b226f8cd",
   "metadata": {
    "ExecuteTime": {
     "end_time": "2022-06-03T19:15:50.120462Z",
     "start_time": "2022-06-03T19:15:48.419585Z"
    }
   },
   "outputs": [],
   "source": [
    "%matplotlib widget\n",
    "\n",
    "from ipywidgets import Button, Layout, ButtonStyle, GridBox, Box, HBox, VBox\n",
    "import ipywidgets as widgets\n",
    "\n",
    "import numpy as np\n",
    "import collections\n",
    "\n",
    "import rospy\n",
    "import actionlib\n",
    "import actionlib.msg\n",
    "import rt2_assignment1.msg\n",
    "import jupyros as jr\n",
    "from geometry_msgs.msg import Twist\n",
    "from rt2_assignment1.srv import Command\n",
    "from rosgraph_msgs.msg import Clock\n",
    "from nav_msgs.msg import Odometry\n",
    "\n",
    "import matplotlib.pyplot as plt\n",
    "from matplotlib import animation, rc\n",
    "import matplotlib.ticker as ticker\n"
   ]
  },
  {
   "cell_type": "markdown",
   "id": "1ae2a1f3",
   "metadata": {},
   "source": [
    "## Node initialization\n",
    "Nodes used in ROS are initialized here. "
   ]
  },
  {
   "cell_type": "code",
   "execution_count": 2,
   "id": "16cc78ad",
   "metadata": {
    "ExecuteTime": {
     "end_time": "2022-06-03T19:15:50.384168Z",
     "start_time": "2022-06-03T19:15:50.123440Z"
    }
   },
   "outputs": [],
   "source": [
    "ui_client = rospy.ServiceProxy('/user_interface', Command)\n",
    "\n",
    "rospy.init_node('jupyter_interface')\n",
    "\n",
    "action_service = actionlib.SimpleActionServer(\n",
    "        '/go_to_point', rt2_assignment1.msg.MoveAction, auto_start=False)\n",
    "\n",
    "action_client = actionlib.SimpleActionClient('/go_to_point', rt2_assignment1.msg.MoveAction)\n",
    "\n",
    "global random_status\n"
   ]
  },
  {
   "cell_type": "markdown",
   "id": "89e748f7",
   "metadata": {},
   "source": [
    "# Widgets\n",
    "\n",
    "## Buttons\n",
    "\n",
    "Buttons for directional control and starting and stopping the robot is mentioned below. To simulate the keyboard layout the buttons are placed in a gridbox. "
   ]
  },
  {
   "cell_type": "code",
   "execution_count": 3,
   "id": "e30e3ea8",
   "metadata": {
    "ExecuteTime": {
     "end_time": "2022-06-03T19:15:50.461857Z",
     "start_time": "2022-06-03T19:15:50.391525Z"
    }
   },
   "outputs": [],
   "source": [
    "#Buttons for directional control\n",
    "\n",
    "up = Button(description='\\u25b2', #direction='up',\n",
    "                 layout=Layout(width='80%', grid_area='up'),\n",
    "                 style=ButtonStyle(button_color='lightgray'))\n",
    "down = Button(description='\\u25bc', #direction='down',\n",
    "                 layout=Layout(width='80%', grid_area='down'),\n",
    "                 style=ButtonStyle(button_color='lightgray'))\n",
    "right = Button(description='\\u25b6', #direction='right',\n",
    "                 layout=Layout(width='85%', grid_area='right'),\n",
    "                 style=ButtonStyle(button_color='lightgray'))\n",
    "left = Button(description='\\u25c0', #direction='left',\n",
    "                 layout=Layout(width='85%', grid_area='left'),\n",
    "                 style=ButtonStyle(button_color='lightgray'))\n",
    "stop_key = Button(description='STOP', #Stop button\n",
    "                 layout=Layout(width='80%', grid_area='stop_key'),\n",
    "                 style=ButtonStyle(button_color='orange'))\n",
    "\n",
    "gb = GridBox(children=[up, down, right, left, stop_key],\n",
    "        layout=Layout(\n",
    "            width='100%',\n",
    "            grid_template_rows='auto auto',\n",
    "            grid_template_columns='33% 33% 33%',\n",
    "            grid_template_areas='''\n",
    "            \". up .\"\n",
    "            \"left down right \"\n",
    "            \". stop_key .\"\n",
    "            ''')\n",
    "       )\n",
    "\n",
    "# display(gb)\n",
    "\n",
    "#Buttons for starting and stopping of the robot.\n",
    "\n",
    "start  = Button(description='START',\n",
    "                 layout=Layout(width='80%', grid_area='start'),\n",
    "                 style=ButtonStyle(button_color='lightgreen'))\n",
    "stop  = Button(description='STOP',\n",
    "                 layout=Layout(width='80%', grid_area='stop'),\n",
    "                 style=ButtonStyle(button_color='lightblue'))\n",
    "\n",
    "# h1 = VBox([start, stop])\n",
    "\n",
    "g_all = GridBox(children=[start, stop],\n",
    "        layout=Layout(\n",
    "            width='100%',\n",
    "            grid_template_rows='auto auto',\n",
    "            grid_template_columns='31%',\n",
    "            grid_template_areas='''\n",
    "            \". start .\"\n",
    "            \". stop .\"\n",
    "            ''')\n",
    "       )\n",
    "\n",
    "# display(g_all)\n"
   ]
  },
  {
   "cell_type": "markdown",
   "id": "ab20659c",
   "metadata": {},
   "source": [
    "## Sliders\n",
    "\n",
    "Sliders that are used to control the robot by setting the linear and angular velocity of the robot are implemented here. When we increase the values in the slider, it gets published in the cmd_vel topic. "
   ]
  },
  {
   "cell_type": "code",
   "execution_count": 4,
   "id": "02cb08a1",
   "metadata": {
    "ExecuteTime": {
     "end_time": "2022-06-03T19:15:50.481351Z",
     "start_time": "2022-06-03T19:15:50.464154Z"
    }
   },
   "outputs": [],
   "source": [
    "lin_slider = widgets.FloatSlider(min=0.0, max=1.0, description='Lin. Velocity')\n",
    "# display(lin_slider)\n",
    "\n",
    "ang_slider = widgets.FloatSlider(min=0.0, max=1.0, description='Ang. Velocity')\n",
    "# display(ang_slider)"
   ]
  },
  {
   "cell_type": "markdown",
   "id": "c834c61b",
   "metadata": {},
   "source": [
    "# Control of the robot using widgets\n",
    "\n",
    "This part of the package explains about the control of the robot using various Jupyter Notebook widgets such as buttons and sliders. "
   ]
  },
  {
   "cell_type": "markdown",
   "id": "777267fc",
   "metadata": {},
   "source": [
    "## Start/Stop the robot using buttons\n",
    "Using start and stop buttons, the Jupyter Notebook is able to start and stop the movement of the robot in the gazebo environment. When the stop button is pressed, the movement of the robot is stopped by cancelling the goal of the robot."
   ]
  },
  {
   "cell_type": "code",
   "execution_count": 5,
   "id": "3557ff4c",
   "metadata": {
    "ExecuteTime": {
     "end_time": "2022-06-03T19:15:50.498142Z",
     "start_time": "2022-06-03T19:15:50.483655Z"
    }
   },
   "outputs": [],
   "source": [
    "ui_client(\"stop\")\n",
    "random_status = False\n",
    "output = widgets.Output()\n",
    "\n",
    "def start_button(start):\n",
    "    global random_status\n",
    "    with output:\n",
    "        slider_lin = 1.0\n",
    "        slider_ang = 1.0\n",
    "        rospy.set_param(\"slider_lin_scale\",slider_lin)\n",
    "        rospy.set_param(\"slider_ang_scale\",slider_ang)\n",
    "        ui_client(\"start\")\n",
    "        if random_status == True:\n",
    "            print(\"Robot is already moving\")\n",
    "        random_status = True\n",
    "        print('Start clicked')\n",
    "        \n",
    "def stop_button(stop):\n",
    "    global random_status\n",
    "    with output:\n",
    "        ui_client(\"stop\")\n",
    "        if random_status == False:\n",
    "            print(\"Robot is already stopped\")\n",
    "        random_status = False        \n",
    "        print('Stop clicked')\n",
    "        \n",
    "start.on_click(start_button)\n",
    "stop.on_click(stop_button)\n"
   ]
  },
  {
   "cell_type": "markdown",
   "id": "55333c10",
   "metadata": {},
   "source": [
    "## Setting the linear and angular velocity of the robot\n",
    "In this part, the linear and angular velocity of the robot can be controlled using two sliders, each meant for controlling the linear speed and angular speed of the robot. "
   ]
  },
  {
   "cell_type": "code",
   "execution_count": 6,
   "id": "1a93a5b3",
   "metadata": {
    "ExecuteTime": {
     "end_time": "2022-06-03T19:15:50.508815Z",
     "start_time": "2022-06-03T19:15:50.501113Z"
    }
   },
   "outputs": [],
   "source": [
    "pub = rospy.Publisher('cmd_vel', Twist, queue_size=10)\n",
    "\n",
    "msg = Twist()\n",
    "\n",
    "def on_value_change(change):\n",
    "    if random_status == False:\n",
    "        msg.linear.x = change['new']\n",
    "        pub.publish(msg)\n",
    "    else:\n",
    "        slider_lin = change['new']\n",
    "        rospy.set_param(\"slider_lin_scale\",slider_lin)\n",
    "        print(\"Random position movement active, velocity modulated\")\n",
    "    \n",
    "def on_valueang_change(change):\n",
    "    if random_status == False:\n",
    "        msg.angular.z = change['new']\n",
    "        pub.publish(msg)\n",
    "    else:\n",
    "        slider_ang = change['new']\n",
    "        rospy.set_param(\"slider_ang_scale\",slider_ang)\n",
    "        print(\"Random position movement active, angular velocity modulated\")\n",
    "\n",
    "lin_slider.observe(on_value_change, names='value')\n",
    "ang_slider.observe(on_valueang_change, names='value')"
   ]
  },
  {
   "cell_type": "markdown",
   "id": "f8663f6e",
   "metadata": {},
   "source": [
    "## Controlling the robot using 5 buttons\n",
    "Here, the robot is controlled by using 5 buttons (Forward, Turn right, Backward, Turn Left and Stop). The buttons are directly published on the /cmd_vel topic."
   ]
  },
  {
   "cell_type": "code",
   "execution_count": 7,
   "id": "bd09e5ba",
   "metadata": {
    "ExecuteTime": {
     "end_time": "2022-06-03T19:15:50.519821Z",
     "start_time": "2022-06-03T19:15:50.510973Z"
    }
   },
   "outputs": [],
   "source": [
    "def up_button(up):\n",
    "    global random_status\n",
    "    if random_status == True:\n",
    "        ui_client(\"stop\")\n",
    "        print(\"Random go to point stopped, click again to start\")\n",
    "        random_status = False\n",
    "    elif random_status == False:\n",
    "        msg.linear.x = 1.0\n",
    "        msg.angular.z = 0.0\n",
    "        pub.publish(msg)\n",
    "        print(\"Go straight\")  \n",
    "            \n",
    "def down_button(down):\n",
    "    global random_status\n",
    "    if random_status == True:\n",
    "        ui_client(\"stop\")\n",
    "        print(\"Random go to point stopped, click again to start\")\n",
    "        random_status = False\n",
    "    elif random_status == False:\n",
    "        msg.linear.x = -1.0\n",
    "        msg.angular.z = 0.0\n",
    "        pub.publish(msg)\n",
    "        print(\"Go backwards\")\n",
    "\n",
    "def right_button(right):\n",
    "    global random_status\n",
    "    if random_status == True:\n",
    "        ui_client(\"stop\")\n",
    "        print(\"Random go to point stopped, click again to start\")\n",
    "        random_status = False\n",
    "    elif random_status == False:\n",
    "        msg.linear.x = 0.0\n",
    "        msg.angular.z = 1.0\n",
    "        pub.publish(msg)\n",
    "        print(\"Turn right\")\n",
    "            \n",
    "def left_button(left):\n",
    "    global random_status\n",
    "    if random_status == True:\n",
    "        ui_client(\"stop\")\n",
    "        print(\"Random go to point stopped, click again to start\")\n",
    "        random_status = False\n",
    "    elif random_status == False:\n",
    "        msg.linear.x = 0.0\n",
    "        msg.angular.z = -1.0\n",
    "        pub.publish(msg)\n",
    "        print(\"Turn left\")\n",
    "            \n",
    "def stop_button_click(stop_key):\n",
    "    global random_status\n",
    "    if random_status == True:\n",
    "        ui_client(\"stop\")\n",
    "        print(\"Random go to point stopped, manual mode active.\")\n",
    "        random_status = False\n",
    "    elif random_status == False:\n",
    "        msg.linear.x = 0.0\n",
    "        msg.angular.z = 0.0\n",
    "        pub.publish(msg)\n",
    "        print('Robot stopped')\n",
    "        \n",
    "up.on_click(up_button)\n",
    "down.on_click(down_button)\n",
    "right.on_click(right_button)\n",
    "left.on_click(left_button)\n",
    "stop_key.on_click(stop_button_click)\n",
    "\n",
    "# display(gb)"
   ]
  },
  {
   "cell_type": "markdown",
   "id": "c7114451",
   "metadata": {},
   "source": [
    "## Widgets Display\n",
    "\n",
    "Every widgets are displayed here. The widgets can be used to start/stop the robot by clicking Start/Stop button, change the linear/angular velocity by two sliders and control the robot using 5 buttons.   "
   ]
  },
  {
   "cell_type": "markdown",
   "id": "88f3e267",
   "metadata": {
    "hide_input": true
   },
   "source": [
    "### Start/Stop button"
   ]
  },
  {
   "cell_type": "code",
   "execution_count": 8,
   "id": "660a8026",
   "metadata": {
    "ExecuteTime": {
     "end_time": "2022-06-03T19:15:50.531562Z",
     "start_time": "2022-06-03T19:15:50.523157Z"
    }
   },
   "outputs": [
    {
     "data": {
      "application/vnd.jupyter.widget-view+json": {
       "model_id": "89b0b96c67b64ea489b80a41656e88c2",
       "version_major": 2,
       "version_minor": 0
      },
      "text/plain": [
       "GridBox(children=(Button(description='START', layout=Layout(grid_area='start', width='80%'), style=ButtonStyle…"
      ]
     },
     "metadata": {},
     "output_type": "display_data"
    }
   ],
   "source": [
    "display(g_all)"
   ]
  },
  {
   "cell_type": "markdown",
   "id": "9ee8dd21",
   "metadata": {},
   "source": [
    "### Change linear/angular velocity"
   ]
  },
  {
   "cell_type": "code",
   "execution_count": 9,
   "id": "76cbc09f",
   "metadata": {
    "ExecuteTime": {
     "end_time": "2022-06-03T19:15:50.545451Z",
     "start_time": "2022-06-03T19:15:50.538055Z"
    }
   },
   "outputs": [
    {
     "data": {
      "application/vnd.jupyter.widget-view+json": {
       "model_id": "4734764da1924088b297beb39501f5f1",
       "version_major": 2,
       "version_minor": 0
      },
      "text/plain": [
       "FloatSlider(value=0.0, description='Lin. Velocity', max=1.0)"
      ]
     },
     "metadata": {},
     "output_type": "display_data"
    },
    {
     "data": {
      "application/vnd.jupyter.widget-view+json": {
       "model_id": "bd065e2198b1473f8ac8dde2a73471ad",
       "version_major": 2,
       "version_minor": 0
      },
      "text/plain": [
       "FloatSlider(value=0.0, description='Ang. Velocity', max=1.0)"
      ]
     },
     "metadata": {},
     "output_type": "display_data"
    }
   ],
   "source": [
    "display(lin_slider)\n",
    "display(ang_slider)"
   ]
  },
  {
   "cell_type": "markdown",
   "id": "87ade295",
   "metadata": {},
   "source": [
    "### Control using 5 buttons"
   ]
  },
  {
   "cell_type": "code",
   "execution_count": 10,
   "id": "2c7e1fb1",
   "metadata": {
    "ExecuteTime": {
     "end_time": "2022-06-03T19:15:50.556829Z",
     "start_time": "2022-06-03T19:15:50.549515Z"
    }
   },
   "outputs": [
    {
     "data": {
      "application/vnd.jupyter.widget-view+json": {
       "model_id": "34fe1277038046f0b48a06154fb2045a",
       "version_major": 2,
       "version_minor": 0
      },
      "text/plain": [
       "GridBox(children=(Button(description='▲', layout=Layout(grid_area='up', width='80%'), style=ButtonStyle(button…"
      ]
     },
     "metadata": {},
     "output_type": "display_data"
    }
   ],
   "source": [
    "display(gb)"
   ]
  },
  {
   "cell_type": "markdown",
   "id": "563d991b",
   "metadata": {},
   "source": [
    "# Plots"
   ]
  },
  {
   "cell_type": "markdown",
   "id": "83c0b40d",
   "metadata": {},
   "source": [
    "## Calculation"
   ]
  },
  {
   "cell_type": "code",
   "execution_count": 11,
   "id": "1c563faa",
   "metadata": {
    "ExecuteTime": {
     "end_time": "2022-06-03T19:15:50.570981Z",
     "start_time": "2022-06-03T19:15:50.560465Z"
    }
   },
   "outputs": [
    {
     "data": {
      "text/plain": [
       "<rospy.topics.Subscriber at 0x7f29701f4610>"
      ]
     },
     "execution_count": 11,
     "metadata": {},
     "output_type": "execute_result"
    }
   ],
   "source": [
    "# target time and success rate calculation\n",
    "number_of_targets = {'reached':0, 'cancelled':0}\n",
    "time_to_target = []\n",
    "\n",
    "def targetCallback(msg):\n",
    "    global number_of_targets\n",
    "    \n",
    "    if msg.result.result:\n",
    "        number_of_targets['reached']+=1   \n",
    "        time_to_target.append(msg.header.stamp.secs - msg.feedback.goal_id.stamp.secs)\n",
    "    else:\n",
    "        number_of_targets['cancelled']+=1\n",
    "\n",
    "\n",
    "rospy.Subscriber('/go_to_point/result', rt2_assignment1.msg.MoveAction, targetCallback)"
   ]
  },
  {
   "cell_type": "markdown",
   "id": "7a7eecfe",
   "metadata": {},
   "source": [
    "## Plot Display"
   ]
  },
  {
   "cell_type": "markdown",
   "id": "aabf8ccf",
   "metadata": {},
   "source": [
    "### cmd_vel vs actual velocity"
   ]
  },
  {
   "cell_type": "code",
   "execution_count": null,
   "id": "1d0cbe18",
   "metadata": {
    "ExecuteTime": {
     "end_time": "2022-06-03T19:12:34.997868Z",
     "start_time": "2022-06-03T19:12:34.895389Z"
    },
    "scrolled": false
   },
   "outputs": [],
   "source": []
  },
  {
   "cell_type": "markdown",
   "id": "12f30549",
   "metadata": {},
   "source": [
    "### Number of reached targets and cancelled targets"
   ]
  },
  {
   "cell_type": "code",
   "execution_count": 12,
   "id": "f480d39f",
   "metadata": {
    "ExecuteTime": {
     "end_time": "2022-06-03T19:15:50.693744Z",
     "start_time": "2022-06-03T19:15:50.573498Z"
    }
   },
   "outputs": [
    {
     "name": "stdout",
     "output_type": "stream",
     "text": [
      "{'reached': 0, 'cancelled': 0}\n"
     ]
    },
    {
     "data": {
      "application/vnd.jupyter.widget-view+json": {
       "model_id": "9c80f91f1c9b4d23b7a6893a16c026c5",
       "version_major": 2,
       "version_minor": 0
      },
      "image/png": "[encoded data removed]",
      "text/html": [
       "\n",
       "            <div style=\"display: inline-block;\">\n",
       "                <div class=\"jupyter-widgets widget-label\" style=\"text-align: center;\">\n",
       "                    Figure\n",
       "                </div>\n",
       "                <img src='data:image/png;base64,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' width=640.0/>\n",
       "            </div>\n",
       "        "
      ],
      "text/plain": [
       "Canvas(toolbar=Toolbar(toolitems=[('Home', 'Reset original view', 'home', 'home'), ('Back', 'Back to previous …"
      ]
     },
     "metadata": {},
     "output_type": "display_data"
    }
   ],
   "source": [
    "print(number_of_targets)\n",
    "\n",
    "# Callback and data for the barplot with the result reached and cancelled\n",
    "bar_plot = plt.figure()\n",
    "ax_bar = bar_plot.add_subplot(111)\n",
    "ax_bar.set_ylabel(\"Number of targets\")\n",
    "ax_bar.set_title(\"Reached vs Cancelled Targets\")\n",
    "\n",
    "plt.xticks(range(len(number_of_targets)), list(number_of_targets.keys()))\n",
    "plot_value = plt.bar(range(len(number_of_targets)), list(number_of_targets.values()), align='center')\n",
    "\n",
    "\n",
    "def animate_plot(i):\n",
    "    for plots, val in zip(plot_value, number_of_targets.values()):\n",
    "         plots.set_height(val)   \n",
    "    return plot_value\n",
    "\n",
    "animate_targets = animation.FuncAnimation(bar_plot, animate_plot, frames=50, interval=20, blit=True) "
   ]
  },
  {
   "cell_type": "markdown",
   "id": "5a08f388",
   "metadata": {},
   "source": [
    "### Time required to reach targets"
   ]
  },
  {
   "cell_type": "code",
   "execution_count": null,
   "id": "7a070cd4",
   "metadata": {},
   "outputs": [],
   "source": []
  },
  {
   "cell_type": "markdown",
   "id": "cd39d86d",
   "metadata": {},
   "source": [
    "### Robot's position vs orientation"
   ]
  },
  {
   "cell_type": "code",
   "execution_count": null,
   "id": "ce25c1e7",
   "metadata": {},
   "outputs": [],
   "source": []
  },
  {
   "cell_type": "markdown",
   "id": "d90d7e47",
   "metadata": {},
   "source": [
    "Temp"
   ]
  },
  {
   "cell_type": "code",
   "execution_count": 13,
   "id": "1fbf892c",
   "metadata": {
    "ExecuteTime": {
     "end_time": "2022-06-03T19:15:50.702224Z",
     "start_time": "2022-06-03T19:15:50.696418Z"
    }
   },
   "outputs": [],
   "source": [
    "from ipywidgets import Layout, Button, Box, VBox\n",
    "\n",
    "# # Items flex proportionally to the weight and the left over space around the text\n",
    "# # items_auto = [\n",
    "# #     #Button(description='weight=1; auto', layout=Layout(flex='1 1 auto', width='auto'), button_style='danger'),\n",
    "# #     Button(description='weight=3; auto', layout=Layout(width='7%', height='60px'), button_style='danger'),\n",
    "# #     #Button(description='weight=1; auto', layout=Layout(flex='1 1 auto', width='auto'), button_style='danger'),\n",
    "# #  ]\n",
    "\n",
    "# up = widgets.Button(description=\"Up\")\n",
    "# box_layout = widgets.Layout(display='flex',\n",
    "#                 flex_flow='column',\n",
    "#                 align_items='center',\n",
    "#                 width='75%')\n",
    "# # box = widgets.HBox(children=[up],layout=box_layout)\n",
    "# # display(box)\n",
    "\n",
    "# # Items flex proportionally to the weight\n",
    "# # items_0 = [\n",
    "# #     Button(description='Left', layout=Layout(flex='1 1 0%', width='auto')),\n",
    "# #     Button(description='Down', layout=Layout(flex='3 1 0%', width='auto')),\n",
    "# #     Button(description='Right', layout=Layout(flex='1 1 0%', width='auto')),\n",
    "# #  ]\n",
    "# # box_layout = Layout(display='flex',\n",
    "# #                     flex_flow='row',\n",
    "# #                     align_items='stretch',\n",
    "# #                     width='70%')\n",
    "# # # box_auto = Box(children=items_auto, layout=box_layout)\n",
    "# # box_0 = Box(children=items_0, layout=box_layout)\n",
    "# # VBox([box_0])\n",
    "\n",
    "# down = widgets.Button(description=\"Down\")\n",
    "# box_layout = widgets.Layout(display='flex',\n",
    "#                 flex_flow='column',\n",
    "#                 align_items='center',\n",
    "#                 width='75%')\n",
    "# # box = widgets.VBox(children=[down],layout=box_layout)\n",
    "# # display(box)\n",
    "\n",
    "# right = widgets.Button(description=\"Right\")\n",
    "# box_layout = widgets.Layout(display='flex',\n",
    "#                 flex_flow='column',\n",
    "#                 align_items='flex-end',\n",
    "#                 width='75%')\n",
    "# # box = widgets.VBox(children=[right],layout=box_layout)\n",
    "# # display(box)\n",
    "\n",
    "# left = widgets.Button(description=\"Left\")\n",
    "# box_layout = widgets.Layout(display='flex',\n",
    "#                 flex_flow='column',\n",
    "#                 align_items='flex-end',\n",
    "#                 width='75%')\n",
    "\n",
    "# gb = GridBox(children=[up, down, right, left],\n",
    "#         layout=Layout(\n",
    "#             width='100%',\n",
    "#             grid_template_rows='auto auto',\n",
    "#             grid_template_columns='33% 33% 33%',\n",
    "#             grid_template_areas='''\n",
    "#             \". up .\"\n",
    "#             \"left down right \"\n",
    "#             ''')\n",
    "#        )\n",
    "\n",
    "# display(gb)"
   ]
  }
 ],
 "metadata": {
  "kernelspec": {
   "display_name": "Python 3 (ipykernel)",
   "language": "python",
   "name": "python3"
  },
  "language_info": {
   "codemirror_mode": {
    "name": "ipython",
    "version": 3
   },
   "file_extension": ".py",
   "mimetype": "text/x-python",
   "name": "python",
   "nbconvert_exporter": "python",
   "pygments_lexer": "ipython3",
   "version": "3.8.10"
  },
  "toc": {
   "base_numbering": 1,
   "nav_menu": {},
   "number_sections": true,
   "sideBar": true,
   "skip_h1_title": false,
   "title_cell": "Table of Contents",
   "title_sidebar": "Contents",
   "toc_cell": false,
   "toc_position": {
    "height": "calc(100% - 180px)",
    "left": "10px",
    "top": "150px",
    "width": "307.2px"
   },
   "toc_section_display": true,
   "toc_window_display": true
  },
  "varInspector": {
   "cols": {
    "lenName": 16,
    "lenType": 16,
    "lenVar": 40
   },
   "kernels_config": {
    "python": {
     "delete_cmd_postfix": "",
     "delete_cmd_prefix": "del ",
     "library": "var_list.py",
     "varRefreshCmd": "print(var_dic_list())"
    },
    "r": {
     "delete_cmd_postfix": ") ",
     "delete_cmd_prefix": "rm(",
     "library": "var_list.r",
     "varRefreshCmd": "cat(var_dic_list()) "
    }
   },
   "types_to_exclude": [
    "module",
    "function",
    "builtin_function_or_method",
    "instance",
    "_Feature"
   ],
   "window_display": false
  }
 },
 "nbformat": 4,
 "nbformat_minor": 5
}
