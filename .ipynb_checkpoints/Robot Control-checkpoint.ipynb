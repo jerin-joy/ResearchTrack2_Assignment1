{
 "cells": [
  {
   "cell_type": "markdown",
   "id": "13604a20",
   "metadata": {},
   "source": [
    "# Control of a holonomic robot using Jupyter Notebook\n",
    "\n",
    "## Overall description of the package:\n",
    "\n",
    "The task of this Jupyter Notebook is to replace the User Interface of the [first assignment](https://github.com/jerin-joy/ResearchTrack2_Assignment1) in the Research Track 2 course. It involves the control of a holonomic robot by using Jupyter Notebook widgets and monitors the data obtained by using various graphical tools in matplotlib.\n",
    "\n",
    "More specifically, the first part of this Jupyter Notebook interface is able of:\n",
    "- Starting or stopping the robot \"random position\" behaviour by using two buttons - Start and Stop.\n",
    "- Setting the linear and angular velocities of the robot by using two sliders.\n",
    "- Directly controlling the robot movements by using 5 buttons (Forward, Turn right, Backward, Turn Left and Stop)\n",
    "\n",
    "Also, the second part of this package contains:\n",
    "- A line plot for visualizing cmd_vel vs. actual velocity (for linear and angular velocity)\n",
    "- A bar plot displaying the number of reached targets and cancelled targets.\n",
    "- A hist plot showing the time required to reach targets.\n",
    "- An xy graph showing the robot’s position and the orientation."
   ]
  },
  {
   "cell_type": "markdown",
   "id": "547c0545",
   "metadata": {
    "ExecuteTime": {
     "end_time": "2022-06-02T09:10:25.766366Z",
     "start_time": "2022-06-02T09:10:25.760795Z"
    }
   },
   "source": [
    "# Headers\n",
    "\n",
    "Headers that are used in the entire package are given below."
   ]
  },
  {
   "cell_type": "code",
   "execution_count": 1,
   "id": "b226f8cd",
   "metadata": {
    "ExecuteTime": {
     "end_time": "2022-06-02T19:18:22.607886Z",
     "start_time": "2022-06-02T19:18:21.173370Z"
    }
   },
   "outputs": [],
   "source": [
    "%matplotlib widget\n",
    "\n",
    "from ipywidgets import Button, Layout, ButtonStyle, GridBox, Box, HBox, VBox\n",
    "import ipywidgets as widgets\n",
    "\n",
    "import numpy as np\n",
    "import collections\n",
    "\n",
    "import rospy\n",
    "import actionlib\n",
    "import actionlib.msg\n",
    "import rt2_assignment1.msg\n",
    "import jupyros as jr\n",
    "from geometry_msgs.msg import Twist\n",
    "from rt2_assignment1.srv import Command\n",
    "from rosgraph_msgs.msg import Clock\n",
    "from nav_msgs.msg import Odometry\n",
    "\n",
    "import matplotlib.pyplot as plt\n",
    "from matplotlib import animation, rc\n",
    "import matplotlib.ticker as ticker\n",
    "\n"
   ]
  },
  {
   "cell_type": "markdown",
   "id": "1ae2a1f3",
   "metadata": {},
   "source": [
    "## Node initialization\n",
    "Nodes used in ROS are initialized here. "
   ]
  },
  {
   "cell_type": "code",
   "execution_count": 2,
   "id": "16cc78ad",
   "metadata": {
    "ExecuteTime": {
     "end_time": "2022-06-02T19:18:22.805581Z",
     "start_time": "2022-06-02T19:18:22.613316Z"
    }
   },
   "outputs": [],
   "source": [
    "ui_client = rospy.ServiceProxy('/user_interface', Command)\n",
    "\n",
    "rospy.init_node('jupyter_interface')\n",
    "\n",
    "action_service = actionlib.SimpleActionServer(\n",
    "        '/go_to_point', rt2_assignment1.msg.MoveAction, auto_start=False)\n",
    "\n",
    "action_client = actionlib.SimpleActionClient('/go_to_point', rt2_assignment1.msg.MoveAction)\n",
    "\n",
    "global random_status\n"
   ]
  },
  {
   "cell_type": "markdown",
   "id": "89e748f7",
   "metadata": {},
   "source": [
    "# Widgets\n",
    "\n",
    "## Buttons\n",
    "\n",
    "Buttons for directional control and starting and stopping the robot is mentioned below. To simulate the keyboard layout the buttons are placed in a gridbox. "
   ]
  },
  {
   "cell_type": "code",
   "execution_count": 3,
   "id": "e30e3ea8",
   "metadata": {
    "ExecuteTime": {
     "end_time": "2022-06-02T19:18:22.876585Z",
     "start_time": "2022-06-02T19:18:22.816411Z"
    }
   },
   "outputs": [],
   "source": [
    "#Buttons for directional control\n",
    "\n",
    "up = Button(description='\\u25b2', #direction='up',\n",
    "                 layout=Layout(width='80%', grid_area='up'),\n",
    "                 style=ButtonStyle(button_color='lightgray'))\n",
    "down = Button(description='\\u25bc', #direction='down',\n",
    "                 layout=Layout(width='80%', grid_area='down'),\n",
    "                 style=ButtonStyle(button_color='lightgray'))\n",
    "right = Button(description='\\u25b6', #direction='right',\n",
    "                 layout=Layout(width='85%', grid_area='right'),\n",
    "                 style=ButtonStyle(button_color='lightgray'))\n",
    "left = Button(description='\\u25c0', #direction='left',\n",
    "                 layout=Layout(width='85%', grid_area='left'),\n",
    "                 style=ButtonStyle(button_color='lightgray'))\n",
    "stop_key = Button(description='STOP', #Stop button\n",
    "                 layout=Layout(width='80%', grid_area='stop_key'),\n",
    "                 style=ButtonStyle(button_color='orange'))\n",
    "\n",
    "gb = GridBox(children=[up, down, right, left, stop_key],\n",
    "        layout=Layout(\n",
    "            width='100%',\n",
    "            grid_template_rows='auto auto',\n",
    "            grid_template_columns='33% 33% 33%',\n",
    "            grid_template_areas='''\n",
    "            \". up .\"\n",
    "            \"left down right \"\n",
    "            \". stop_key .\"\n",
    "            ''')\n",
    "       )\n",
    "\n",
    "# display(gb)\n",
    "\n",
    "#Buttons for starting and stopping of the robot.\n",
    "\n",
    "start  = Button(description='START',\n",
    "                 layout=Layout(width='80%', grid_area='start'),\n",
    "                 style=ButtonStyle(button_color='lightgreen'))\n",
    "stop  = Button(description='STOP',\n",
    "                 layout=Layout(width='80%', grid_area='stop'),\n",
    "                 style=ButtonStyle(button_color='lightblue'))\n",
    "\n",
    "# h1 = VBox([start, stop])\n",
    "\n",
    "g_all = GridBox(children=[start, stop],\n",
    "        layout=Layout(\n",
    "            width='100%',\n",
    "            grid_template_rows='auto auto',\n",
    "            grid_template_columns='31%',\n",
    "            grid_template_areas='''\n",
    "            \". start .\"\n",
    "            \". stop .\"\n",
    "            ''')\n",
    "       )\n",
    "\n",
    "# display(g_all)\n"
   ]
  },
  {
   "cell_type": "markdown",
   "id": "ab20659c",
   "metadata": {},
   "source": [
    "## Sliders\n",
    "\n",
    "Sliders that are used to control the robot by setting the linear and angular velocity of the robot are implemented here. When we increase the values in the slider, it gets published in the cmd_vel topic. "
   ]
  },
  {
   "cell_type": "code",
   "execution_count": 4,
   "id": "02cb08a1",
   "metadata": {
    "ExecuteTime": {
     "end_time": "2022-06-02T19:18:22.898407Z",
     "start_time": "2022-06-02T19:18:22.879164Z"
    }
   },
   "outputs": [],
   "source": [
    "lin_slider = widgets.FloatSlider(min=0.0, max=1.0, description='Lin. Velocity')\n",
    "# display(lin_slider)\n",
    "\n",
    "ang_slider = widgets.FloatSlider(min=0.0, max=1.0, description='Ang. Velocity')\n",
    "# display(ang_slider)"
   ]
  },
  {
   "cell_type": "markdown",
   "id": "c834c61b",
   "metadata": {},
   "source": [
    "# Control of the robot using widgets\n",
    "\n",
    "This part of the package explains about the control of the robot using various Jupyter Notebook widgets such as buttons and sliders. "
   ]
  },
  {
   "cell_type": "markdown",
   "id": "777267fc",
   "metadata": {},
   "source": [
    "## Start/Stop the robot using buttons\n",
    "Using start and stop buttons, the Jupyter Notebook is able to start and stop the movement of the robot in the gazebo environment. When the stop button is pressed, the movement of the robot is stopped by cancelling the goal of the robot."
   ]
  },
  {
   "cell_type": "code",
   "execution_count": 5,
   "id": "3557ff4c",
   "metadata": {
    "ExecuteTime": {
     "end_time": "2022-06-02T19:18:22.922142Z",
     "start_time": "2022-06-02T19:18:22.904017Z"
    }
   },
   "outputs": [],
   "source": [
    "ui_client(\"stop\")\n",
    "random_status = False\n",
    "output = widgets.Output()\n",
    "\n",
    "def start_button(start):\n",
    "    global random_status\n",
    "    with output:\n",
    "        slider_lin = 1.0\n",
    "        slider_ang = 1.0\n",
    "        rospy.set_param(\"slider_lin_scale\",slider_lin)\n",
    "        rospy.set_param(\"slider_ang_scale\",slider_ang)\n",
    "        ui_client(\"start\")\n",
    "        if random_status == True:\n",
    "            print(\"Robot is already moving\")\n",
    "        random_status = True\n",
    "        print('Start clicked')\n",
    "        \n",
    "def stop_button(stop):\n",
    "    global random_status\n",
    "    with output:\n",
    "        ui_client(\"stop\")\n",
    "        if random_status == False:\n",
    "            print(\"Robot is already stopped\")\n",
    "        random_status = False        \n",
    "        print('Stop clicked')\n",
    "        \n",
    "start.on_click(start_button)\n",
    "stop.on_click(stop_button)\n"
   ]
  },
  {
   "cell_type": "markdown",
   "id": "55333c10",
   "metadata": {},
   "source": [
    "## Setting the linear and angular velocity of the robot\n",
    "In this part, the linear and angular velocity of the robot can be controlled using two sliders, each meant for controlling the linear speed and angular speed of the robot. "
   ]
  },
  {
   "cell_type": "code",
   "execution_count": 6,
   "id": "1a93a5b3",
   "metadata": {
    "ExecuteTime": {
     "end_time": "2022-06-02T19:18:22.937049Z",
     "start_time": "2022-06-02T19:18:22.929667Z"
    }
   },
   "outputs": [],
   "source": [
    "pub = rospy.Publisher('cmd_vel', Twist, queue_size=10)\n",
    "\n",
    "msg = Twist()\n",
    "\n",
    "def on_value_change(change):\n",
    "    if random_status == False:\n",
    "        msg.linear.x = change['new']\n",
    "        pub.publish(msg)\n",
    "    else:\n",
    "        slider_lin = change['new']\n",
    "        rospy.set_param(\"slider_lin_scale\",slider_lin)\n",
    "        print(\"Random position movement active, velocity modulated\")\n",
    "    \n",
    "def on_valueang_change(change):\n",
    "    if random_status == False:\n",
    "        msg.angular.z = change['new']\n",
    "        pub.publish(msg)\n",
    "    else:\n",
    "        slider_ang = change['new']\n",
    "        rospy.set_param(\"slider_ang_scale\",slider_ang)\n",
    "        print(\"Random position movement active, angular velocity modulated\")\n",
    "\n",
    "lin_slider.observe(on_value_change, names='value')\n",
    "ang_slider.observe(on_valueang_change, names='value')"
   ]
  },
  {
   "cell_type": "markdown",
   "id": "f8663f6e",
   "metadata": {},
   "source": [
    "## Controlling the robot using 5 buttons\n",
    "Here, the robot is controlled by using 5 buttons (Forward, Turn right, Backward, Turn Left and Stop). The buttons are directly published on the /cmd_vel topic."
   ]
  },
  {
   "cell_type": "code",
   "execution_count": 7,
   "id": "bd09e5ba",
   "metadata": {
    "ExecuteTime": {
     "end_time": "2022-06-02T19:18:22.950720Z",
     "start_time": "2022-06-02T19:18:22.939231Z"
    }
   },
   "outputs": [],
   "source": [
    "def up_button(up):\n",
    "    global random_status\n",
    "    if random_status == True:\n",
    "        ui_client(\"stop\")\n",
    "        print(\"Random go to point stopped, click again to start\")\n",
    "        random_status = False\n",
    "    elif random_status == False:\n",
    "        msg.linear.x = 1.0\n",
    "        msg.angular.z = 0.0\n",
    "        pub.publish(msg)\n",
    "        print(\"Go straight\")  \n",
    "            \n",
    "def down_button(down):\n",
    "    global random_status\n",
    "    if random_status == True:\n",
    "        ui_client(\"stop\")\n",
    "        print(\"Random go to point stopped, click again to start\")\n",
    "        random_status = False\n",
    "    elif random_status == False:\n",
    "        msg.linear.x = -1.0\n",
    "        msg.angular.z = 0.0\n",
    "        pub.publish(msg)\n",
    "        print(\"Go backwards\")\n",
    "\n",
    "def right_button(right):\n",
    "    global random_status\n",
    "    if random_status == True:\n",
    "        ui_client(\"stop\")\n",
    "        print(\"Random go to point stopped, click again to start\")\n",
    "        random_status = False\n",
    "    elif random_status == False:\n",
    "        msg.linear.x = 0.0\n",
    "        msg.angular.z = 1.0\n",
    "        pub.publish(msg)\n",
    "        print(\"Turn right\")\n",
    "            \n",
    "def left_button(left):\n",
    "    global random_status\n",
    "    if random_status == True:\n",
    "        ui_client(\"stop\")\n",
    "        print(\"Random go to point stopped, click again to start\")\n",
    "        random_status = False\n",
    "    elif random_status == False:\n",
    "        msg.linear.x = 0.0\n",
    "        msg.angular.z = -1.0\n",
    "        pub.publish(msg)\n",
    "        print(\"Turn left\")\n",
    "            \n",
    "def stop_button_click(stop_key):\n",
    "    global random_status\n",
    "    if random_status == True:\n",
    "        ui_client(\"stop\")\n",
    "        print(\"Random go to point stopped, manual mode active.\")\n",
    "        random_status = False\n",
    "    elif random_status == False:\n",
    "        msg.linear.x = 0.0\n",
    "        msg.angular.z = 0.0\n",
    "        pub.publish(msg)\n",
    "        print('Robot stopped')\n",
    "        \n",
    "up.on_click(up_button)\n",
    "down.on_click(down_button)\n",
    "right.on_click(right_button)\n",
    "left.on_click(left_button)\n",
    "stop_key.on_click(stop_button_click)\n",
    "\n",
    "# display(gb)"
   ]
  },
  {
   "cell_type": "markdown",
   "id": "c7114451",
   "metadata": {},
   "source": [
    "## Widgets Display\n",
    "\n",
    "Every widgets are displayed here. The widgets can be used to start/stop the robot by clicking Start/Stop button, change the linear/angular velocity by two sliders and control the robot using 5 buttons.   "
   ]
  },
  {
   "cell_type": "markdown",
   "id": "88f3e267",
   "metadata": {},
   "source": [
    "### Start/Stop button"
   ]
  },
  {
   "cell_type": "code",
   "execution_count": 8,
   "id": "660a8026",
   "metadata": {
    "ExecuteTime": {
     "end_time": "2022-06-02T19:18:22.968611Z",
     "start_time": "2022-06-02T19:18:22.955620Z"
    }
   },
   "outputs": [
    {
     "data": {
      "application/vnd.jupyter.widget-view+json": {
       "model_id": "78e87a4a382a432bb25a7d9308802c27",
       "version_major": 2,
       "version_minor": 0
      },
      "text/plain": [
       "GridBox(children=(Button(description='START', layout=Layout(grid_area='start', width='80%'), style=ButtonStyle…"
      ]
     },
     "metadata": {},
     "output_type": "display_data"
    }
   ],
   "source": [
    "display(g_all)"
   ]
  },
  {
   "cell_type": "markdown",
   "id": "9ee8dd21",
   "metadata": {},
   "source": [
    "### Change linear/angular velocity"
   ]
  },
  {
   "cell_type": "code",
   "execution_count": 9,
   "id": "76cbc09f",
   "metadata": {
    "ExecuteTime": {
     "end_time": "2022-06-02T19:18:22.978625Z",
     "start_time": "2022-06-02T19:18:22.972021Z"
    }
   },
   "outputs": [
    {
     "data": {
      "application/vnd.jupyter.widget-view+json": {
       "model_id": "be39dae4f5854ec2a088bac68fe7f57b",
       "version_major": 2,
       "version_minor": 0
      },
      "text/plain": [
       "FloatSlider(value=0.0, description='Lin. Velocity', max=1.0)"
      ]
     },
     "metadata": {},
     "output_type": "display_data"
    },
    {
     "data": {
      "application/vnd.jupyter.widget-view+json": {
       "model_id": "2099cd5e1eb54b069099f3d52a829910",
       "version_major": 2,
       "version_minor": 0
      },
      "text/plain": [
       "FloatSlider(value=0.0, description='Ang. Velocity', max=1.0)"
      ]
     },
     "metadata": {},
     "output_type": "display_data"
    }
   ],
   "source": [
    "display(lin_slider)\n",
    "display(ang_slider)"
   ]
  },
  {
   "cell_type": "markdown",
   "id": "87ade295",
   "metadata": {},
   "source": [
    "### Control using 5 buttons"
   ]
  },
  {
   "cell_type": "code",
   "execution_count": 10,
   "id": "2c7e1fb1",
   "metadata": {
    "ExecuteTime": {
     "end_time": "2022-06-02T19:18:23.001695Z",
     "start_time": "2022-06-02T19:18:22.983711Z"
    }
   },
   "outputs": [
    {
     "data": {
      "application/vnd.jupyter.widget-view+json": {
       "model_id": "872a2248157148a79f3b7600fe1e84ec",
       "version_major": 2,
       "version_minor": 0
      },
      "text/plain": [
       "GridBox(children=(Button(description='▲', layout=Layout(grid_area='up', width='80%'), style=ButtonStyle(button…"
      ]
     },
     "metadata": {},
     "output_type": "display_data"
    },
    {
     "name": "stdout",
     "output_type": "stream",
     "text": [
      "Go straight\n",
      "Robot stopped\n",
      "Robot stopped\n",
      "Go backwards\n",
      "Robot stopped\n",
      "Random go to point stopped, manual mode active.\n",
      "Go straight\n",
      "Robot stopped\n"
     ]
    }
   ],
   "source": [
    "display(gb)"
   ]
  },
  {
   "cell_type": "markdown",
   "id": "563d991b",
   "metadata": {},
   "source": [
    "# Plots\n",
    "\n",
    "## cmd_vel vs actual velocity\n"
   ]
  },
  {
   "cell_type": "code",
   "execution_count": null,
   "id": "2c17d718",
   "metadata": {},
   "outputs": [],
   "source": []
  },
  {
   "cell_type": "markdown",
   "id": "12f30549",
   "metadata": {},
   "source": [
    "## Number of reached targets and cancelled targets"
   ]
  },
  {
   "cell_type": "code",
   "execution_count": null,
   "id": "f480d39f",
   "metadata": {},
   "outputs": [],
   "source": []
  },
  {
   "cell_type": "markdown",
   "id": "5a08f388",
   "metadata": {},
   "source": [
    "## Time required to reach targets"
   ]
  },
  {
   "cell_type": "code",
   "execution_count": null,
   "id": "7a070cd4",
   "metadata": {},
   "outputs": [],
   "source": []
  },
  {
   "cell_type": "markdown",
   "id": "cd39d86d",
   "metadata": {},
   "source": [
    "## Robot's position vs orientation"
   ]
  },
  {
   "cell_type": "code",
   "execution_count": null,
   "id": "ce25c1e7",
   "metadata": {},
   "outputs": [],
   "source": []
  },
  {
   "cell_type": "markdown",
   "id": "d90d7e47",
   "metadata": {},
   "source": [
    "Temp"
   ]
  },
  {
   "cell_type": "code",
   "execution_count": 11,
   "id": "1fbf892c",
   "metadata": {
    "ExecuteTime": {
     "end_time": "2022-06-02T19:18:23.040434Z",
     "start_time": "2022-06-02T19:18:23.025797Z"
    }
   },
   "outputs": [],
   "source": [
    "from ipywidgets import Layout, Button, Box, VBox\n",
    "\n",
    "# # Items flex proportionally to the weight and the left over space around the text\n",
    "# # items_auto = [\n",
    "# #     #Button(description='weight=1; auto', layout=Layout(flex='1 1 auto', width='auto'), button_style='danger'),\n",
    "# #     Button(description='weight=3; auto', layout=Layout(width='7%', height='60px'), button_style='danger'),\n",
    "# #     #Button(description='weight=1; auto', layout=Layout(flex='1 1 auto', width='auto'), button_style='danger'),\n",
    "# #  ]\n",
    "\n",
    "# up = widgets.Button(description=\"Up\")\n",
    "# box_layout = widgets.Layout(display='flex',\n",
    "#                 flex_flow='column',\n",
    "#                 align_items='center',\n",
    "#                 width='75%')\n",
    "# # box = widgets.HBox(children=[up],layout=box_layout)\n",
    "# # display(box)\n",
    "\n",
    "# # Items flex proportionally to the weight\n",
    "# # items_0 = [\n",
    "# #     Button(description='Left', layout=Layout(flex='1 1 0%', width='auto')),\n",
    "# #     Button(description='Down', layout=Layout(flex='3 1 0%', width='auto')),\n",
    "# #     Button(description='Right', layout=Layout(flex='1 1 0%', width='auto')),\n",
    "# #  ]\n",
    "# # box_layout = Layout(display='flex',\n",
    "# #                     flex_flow='row',\n",
    "# #                     align_items='stretch',\n",
    "# #                     width='70%')\n",
    "# # # box_auto = Box(children=items_auto, layout=box_layout)\n",
    "# # box_0 = Box(children=items_0, layout=box_layout)\n",
    "# # VBox([box_0])\n",
    "\n",
    "# down = widgets.Button(description=\"Down\")\n",
    "# box_layout = widgets.Layout(display='flex',\n",
    "#                 flex_flow='column',\n",
    "#                 align_items='center',\n",
    "#                 width='75%')\n",
    "# # box = widgets.VBox(children=[down],layout=box_layout)\n",
    "# # display(box)\n",
    "\n",
    "# right = widgets.Button(description=\"Right\")\n",
    "# box_layout = widgets.Layout(display='flex',\n",
    "#                 flex_flow='column',\n",
    "#                 align_items='flex-end',\n",
    "#                 width='75%')\n",
    "# # box = widgets.VBox(children=[right],layout=box_layout)\n",
    "# # display(box)\n",
    "\n",
    "# left = widgets.Button(description=\"Left\")\n",
    "# box_layout = widgets.Layout(display='flex',\n",
    "#                 flex_flow='column',\n",
    "#                 align_items='flex-end',\n",
    "#                 width='75%')\n",
    "\n",
    "# gb = GridBox(children=[up, down, right, left],\n",
    "#         layout=Layout(\n",
    "#             width='100%',\n",
    "#             grid_template_rows='auto auto',\n",
    "#             grid_template_columns='33% 33% 33%',\n",
    "#             grid_template_areas='''\n",
    "#             \". up .\"\n",
    "#             \"left down right \"\n",
    "#             ''')\n",
    "#        )\n",
    "\n",
    "# display(gb)"
   ]
  }
 ],
 "metadata": {
  "kernelspec": {
   "display_name": "Python 3 (ipykernel)",
   "language": "python",
   "name": "python3"
  },
  "language_info": {
   "codemirror_mode": {
    "name": "ipython",
    "version": 3
   },
   "file_extension": ".py",
   "mimetype": "text/x-python",
   "name": "python",
   "nbconvert_exporter": "python",
   "pygments_lexer": "ipython3",
   "version": "3.8.10"
  },
  "toc": {
   "base_numbering": 1,
   "nav_menu": {},
   "number_sections": true,
   "sideBar": true,
   "skip_h1_title": false,
   "title_cell": "Table of Contents",
   "title_sidebar": "Contents",
   "toc_cell": false,
   "toc_position": {},
   "toc_section_display": true,
   "toc_window_display": true
  },
  "varInspector": {
   "cols": {
    "lenName": 16,
    "lenType": 16,
    "lenVar": 40
   },
   "kernels_config": {
    "python": {
     "delete_cmd_postfix": "",
     "delete_cmd_prefix": "del ",
     "library": "var_list.py",
     "varRefreshCmd": "print(var_dic_list())"
    },
    "r": {
     "delete_cmd_postfix": ") ",
     "delete_cmd_prefix": "rm(",
     "library": "var_list.r",
     "varRefreshCmd": "cat(var_dic_list()) "
    }
   },
   "types_to_exclude": [
    "module",
    "function",
    "builtin_function_or_method",
    "instance",
    "_Feature"
   ],
   "window_display": false
  }
 },
 "nbformat": 4,
 "nbformat_minor": 5
}
